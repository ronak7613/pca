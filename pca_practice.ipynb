{
  "nbformat": 4,
  "nbformat_minor": 0,
  "metadata": {
    "colab": {
      "provenance": []
    },
    "kernelspec": {
      "name": "python3",
      "display_name": "Python 3"
    },
    "language_info": {
      "name": "python"
    }
  },
  "cells": [
    {
      "cell_type": "code",
      "execution_count": null,
      "metadata": {
        "id": "Bz0OBiLBqpL5"
      },
      "outputs": [],
      "source": [
        "import pandas as pd\n",
        "import numpy as np\n"
      ]
    },
    {
      "cell_type": "code",
      "source": [
        "df=pd.read_csv('/abalone.csv')"
      ],
      "metadata": {
        "id": "q7MzEv8lq-pC",
        "colab": {
          "base_uri": "https://localhost:8080/",
          "height": 318
        },
        "outputId": "9141bfd8-d5dc-4039-b47c-eee2d3b2f96f"
      },
      "execution_count": null,
      "outputs": [
        {
          "output_type": "error",
          "ename": "FileNotFoundError",
          "evalue": "ignored",
          "traceback": [
            "\u001b[0;31m---------------------------------------------------------------------------\u001b[0m",
            "\u001b[0;31mFileNotFoundError\u001b[0m                         Traceback (most recent call last)",
            "\u001b[0;32m<ipython-input-5-3f492d88d4ec>\u001b[0m in \u001b[0;36m<module>\u001b[0;34m\u001b[0m\n\u001b[0;32m----> 1\u001b[0;31m \u001b[0mdf\u001b[0m\u001b[0;34m=\u001b[0m\u001b[0mpd\u001b[0m\u001b[0;34m.\u001b[0m\u001b[0mread_csv\u001b[0m\u001b[0;34m(\u001b[0m\u001b[0;34m'/abalone.csv'\u001b[0m\u001b[0;34m)\u001b[0m\u001b[0;34m\u001b[0m\u001b[0;34m\u001b[0m\u001b[0m\n\u001b[0m",
            "\u001b[0;32m/usr/local/lib/python3.8/dist-packages/pandas/util/_decorators.py\u001b[0m in \u001b[0;36mwrapper\u001b[0;34m(*args, **kwargs)\u001b[0m\n\u001b[1;32m    309\u001b[0m                     \u001b[0mstacklevel\u001b[0m\u001b[0;34m=\u001b[0m\u001b[0mstacklevel\u001b[0m\u001b[0;34m,\u001b[0m\u001b[0;34m\u001b[0m\u001b[0;34m\u001b[0m\u001b[0m\n\u001b[1;32m    310\u001b[0m                 )\n\u001b[0;32m--> 311\u001b[0;31m             \u001b[0;32mreturn\u001b[0m \u001b[0mfunc\u001b[0m\u001b[0;34m(\u001b[0m\u001b[0;34m*\u001b[0m\u001b[0margs\u001b[0m\u001b[0;34m,\u001b[0m \u001b[0;34m**\u001b[0m\u001b[0mkwargs\u001b[0m\u001b[0;34m)\u001b[0m\u001b[0;34m\u001b[0m\u001b[0;34m\u001b[0m\u001b[0m\n\u001b[0m\u001b[1;32m    312\u001b[0m \u001b[0;34m\u001b[0m\u001b[0m\n\u001b[1;32m    313\u001b[0m         \u001b[0;32mreturn\u001b[0m \u001b[0mwrapper\u001b[0m\u001b[0;34m\u001b[0m\u001b[0;34m\u001b[0m\u001b[0m\n",
            "\u001b[0;32m/usr/local/lib/python3.8/dist-packages/pandas/io/parsers/readers.py\u001b[0m in \u001b[0;36mread_csv\u001b[0;34m(filepath_or_buffer, sep, delimiter, header, names, index_col, usecols, squeeze, prefix, mangle_dupe_cols, dtype, engine, converters, true_values, false_values, skipinitialspace, skiprows, skipfooter, nrows, na_values, keep_default_na, na_filter, verbose, skip_blank_lines, parse_dates, infer_datetime_format, keep_date_col, date_parser, dayfirst, cache_dates, iterator, chunksize, compression, thousands, decimal, lineterminator, quotechar, quoting, doublequote, escapechar, comment, encoding, encoding_errors, dialect, error_bad_lines, warn_bad_lines, on_bad_lines, delim_whitespace, low_memory, memory_map, float_precision, storage_options)\u001b[0m\n\u001b[1;32m    584\u001b[0m     \u001b[0mkwds\u001b[0m\u001b[0;34m.\u001b[0m\u001b[0mupdate\u001b[0m\u001b[0;34m(\u001b[0m\u001b[0mkwds_defaults\u001b[0m\u001b[0;34m)\u001b[0m\u001b[0;34m\u001b[0m\u001b[0;34m\u001b[0m\u001b[0m\n\u001b[1;32m    585\u001b[0m \u001b[0;34m\u001b[0m\u001b[0m\n\u001b[0;32m--> 586\u001b[0;31m     \u001b[0;32mreturn\u001b[0m \u001b[0m_read\u001b[0m\u001b[0;34m(\u001b[0m\u001b[0mfilepath_or_buffer\u001b[0m\u001b[0;34m,\u001b[0m \u001b[0mkwds\u001b[0m\u001b[0;34m)\u001b[0m\u001b[0;34m\u001b[0m\u001b[0;34m\u001b[0m\u001b[0m\n\u001b[0m\u001b[1;32m    587\u001b[0m \u001b[0;34m\u001b[0m\u001b[0m\n\u001b[1;32m    588\u001b[0m \u001b[0;34m\u001b[0m\u001b[0m\n",
            "\u001b[0;32m/usr/local/lib/python3.8/dist-packages/pandas/io/parsers/readers.py\u001b[0m in \u001b[0;36m_read\u001b[0;34m(filepath_or_buffer, kwds)\u001b[0m\n\u001b[1;32m    480\u001b[0m \u001b[0;34m\u001b[0m\u001b[0m\n\u001b[1;32m    481\u001b[0m     \u001b[0;31m# Create the parser.\u001b[0m\u001b[0;34m\u001b[0m\u001b[0;34m\u001b[0m\u001b[0;34m\u001b[0m\u001b[0m\n\u001b[0;32m--> 482\u001b[0;31m     \u001b[0mparser\u001b[0m \u001b[0;34m=\u001b[0m \u001b[0mTextFileReader\u001b[0m\u001b[0;34m(\u001b[0m\u001b[0mfilepath_or_buffer\u001b[0m\u001b[0;34m,\u001b[0m \u001b[0;34m**\u001b[0m\u001b[0mkwds\u001b[0m\u001b[0;34m)\u001b[0m\u001b[0;34m\u001b[0m\u001b[0;34m\u001b[0m\u001b[0m\n\u001b[0m\u001b[1;32m    483\u001b[0m \u001b[0;34m\u001b[0m\u001b[0m\n\u001b[1;32m    484\u001b[0m     \u001b[0;32mif\u001b[0m \u001b[0mchunksize\u001b[0m \u001b[0;32mor\u001b[0m \u001b[0miterator\u001b[0m\u001b[0;34m:\u001b[0m\u001b[0;34m\u001b[0m\u001b[0;34m\u001b[0m\u001b[0m\n",
            "\u001b[0;32m/usr/local/lib/python3.8/dist-packages/pandas/io/parsers/readers.py\u001b[0m in \u001b[0;36m__init__\u001b[0;34m(self, f, engine, **kwds)\u001b[0m\n\u001b[1;32m    809\u001b[0m             \u001b[0mself\u001b[0m\u001b[0;34m.\u001b[0m\u001b[0moptions\u001b[0m\u001b[0;34m[\u001b[0m\u001b[0;34m\"has_index_names\"\u001b[0m\u001b[0;34m]\u001b[0m \u001b[0;34m=\u001b[0m \u001b[0mkwds\u001b[0m\u001b[0;34m[\u001b[0m\u001b[0;34m\"has_index_names\"\u001b[0m\u001b[0;34m]\u001b[0m\u001b[0;34m\u001b[0m\u001b[0;34m\u001b[0m\u001b[0m\n\u001b[1;32m    810\u001b[0m \u001b[0;34m\u001b[0m\u001b[0m\n\u001b[0;32m--> 811\u001b[0;31m         \u001b[0mself\u001b[0m\u001b[0;34m.\u001b[0m\u001b[0m_engine\u001b[0m \u001b[0;34m=\u001b[0m \u001b[0mself\u001b[0m\u001b[0;34m.\u001b[0m\u001b[0m_make_engine\u001b[0m\u001b[0;34m(\u001b[0m\u001b[0mself\u001b[0m\u001b[0;34m.\u001b[0m\u001b[0mengine\u001b[0m\u001b[0;34m)\u001b[0m\u001b[0;34m\u001b[0m\u001b[0;34m\u001b[0m\u001b[0m\n\u001b[0m\u001b[1;32m    812\u001b[0m \u001b[0;34m\u001b[0m\u001b[0m\n\u001b[1;32m    813\u001b[0m     \u001b[0;32mdef\u001b[0m \u001b[0mclose\u001b[0m\u001b[0;34m(\u001b[0m\u001b[0mself\u001b[0m\u001b[0;34m)\u001b[0m\u001b[0;34m:\u001b[0m\u001b[0;34m\u001b[0m\u001b[0;34m\u001b[0m\u001b[0m\n",
            "\u001b[0;32m/usr/local/lib/python3.8/dist-packages/pandas/io/parsers/readers.py\u001b[0m in \u001b[0;36m_make_engine\u001b[0;34m(self, engine)\u001b[0m\n\u001b[1;32m   1038\u001b[0m             )\n\u001b[1;32m   1039\u001b[0m         \u001b[0;31m# error: Too many arguments for \"ParserBase\"\u001b[0m\u001b[0;34m\u001b[0m\u001b[0;34m\u001b[0m\u001b[0;34m\u001b[0m\u001b[0m\n\u001b[0;32m-> 1040\u001b[0;31m         \u001b[0;32mreturn\u001b[0m \u001b[0mmapping\u001b[0m\u001b[0;34m[\u001b[0m\u001b[0mengine\u001b[0m\u001b[0;34m]\u001b[0m\u001b[0;34m(\u001b[0m\u001b[0mself\u001b[0m\u001b[0;34m.\u001b[0m\u001b[0mf\u001b[0m\u001b[0;34m,\u001b[0m \u001b[0;34m**\u001b[0m\u001b[0mself\u001b[0m\u001b[0;34m.\u001b[0m\u001b[0moptions\u001b[0m\u001b[0;34m)\u001b[0m  \u001b[0;31m# type: ignore[call-arg]\u001b[0m\u001b[0;34m\u001b[0m\u001b[0;34m\u001b[0m\u001b[0m\n\u001b[0m\u001b[1;32m   1041\u001b[0m \u001b[0;34m\u001b[0m\u001b[0m\n\u001b[1;32m   1042\u001b[0m     \u001b[0;32mdef\u001b[0m \u001b[0m_failover_to_python\u001b[0m\u001b[0;34m(\u001b[0m\u001b[0mself\u001b[0m\u001b[0;34m)\u001b[0m\u001b[0;34m:\u001b[0m\u001b[0;34m\u001b[0m\u001b[0;34m\u001b[0m\u001b[0m\n",
            "\u001b[0;32m/usr/local/lib/python3.8/dist-packages/pandas/io/parsers/c_parser_wrapper.py\u001b[0m in \u001b[0;36m__init__\u001b[0;34m(self, src, **kwds)\u001b[0m\n\u001b[1;32m     49\u001b[0m \u001b[0;34m\u001b[0m\u001b[0m\n\u001b[1;32m     50\u001b[0m         \u001b[0;31m# open handles\u001b[0m\u001b[0;34m\u001b[0m\u001b[0;34m\u001b[0m\u001b[0;34m\u001b[0m\u001b[0m\n\u001b[0;32m---> 51\u001b[0;31m         \u001b[0mself\u001b[0m\u001b[0;34m.\u001b[0m\u001b[0m_open_handles\u001b[0m\u001b[0;34m(\u001b[0m\u001b[0msrc\u001b[0m\u001b[0;34m,\u001b[0m \u001b[0mkwds\u001b[0m\u001b[0;34m)\u001b[0m\u001b[0;34m\u001b[0m\u001b[0;34m\u001b[0m\u001b[0m\n\u001b[0m\u001b[1;32m     52\u001b[0m         \u001b[0;32massert\u001b[0m \u001b[0mself\u001b[0m\u001b[0;34m.\u001b[0m\u001b[0mhandles\u001b[0m \u001b[0;32mis\u001b[0m \u001b[0;32mnot\u001b[0m \u001b[0;32mNone\u001b[0m\u001b[0;34m\u001b[0m\u001b[0;34m\u001b[0m\u001b[0m\n\u001b[1;32m     53\u001b[0m \u001b[0;34m\u001b[0m\u001b[0m\n",
            "\u001b[0;32m/usr/local/lib/python3.8/dist-packages/pandas/io/parsers/base_parser.py\u001b[0m in \u001b[0;36m_open_handles\u001b[0;34m(self, src, kwds)\u001b[0m\n\u001b[1;32m    220\u001b[0m         \u001b[0mLet\u001b[0m \u001b[0mthe\u001b[0m \u001b[0mreaders\u001b[0m \u001b[0mopen\u001b[0m \u001b[0mIOHandles\u001b[0m \u001b[0mafter\u001b[0m \u001b[0mthey\u001b[0m \u001b[0mare\u001b[0m \u001b[0mdone\u001b[0m \u001b[0;32mwith\u001b[0m \u001b[0mtheir\u001b[0m \u001b[0mpotential\u001b[0m \u001b[0mraises\u001b[0m\u001b[0;34m.\u001b[0m\u001b[0;34m\u001b[0m\u001b[0;34m\u001b[0m\u001b[0m\n\u001b[1;32m    221\u001b[0m         \"\"\"\n\u001b[0;32m--> 222\u001b[0;31m         self.handles = get_handle(\n\u001b[0m\u001b[1;32m    223\u001b[0m             \u001b[0msrc\u001b[0m\u001b[0;34m,\u001b[0m\u001b[0;34m\u001b[0m\u001b[0;34m\u001b[0m\u001b[0m\n\u001b[1;32m    224\u001b[0m             \u001b[0;34m\"r\"\u001b[0m\u001b[0;34m,\u001b[0m\u001b[0;34m\u001b[0m\u001b[0;34m\u001b[0m\u001b[0m\n",
            "\u001b[0;32m/usr/local/lib/python3.8/dist-packages/pandas/io/common.py\u001b[0m in \u001b[0;36mget_handle\u001b[0;34m(path_or_buf, mode, encoding, compression, memory_map, is_text, errors, storage_options)\u001b[0m\n\u001b[1;32m    700\u001b[0m         \u001b[0;32mif\u001b[0m \u001b[0mioargs\u001b[0m\u001b[0;34m.\u001b[0m\u001b[0mencoding\u001b[0m \u001b[0;32mand\u001b[0m \u001b[0;34m\"b\"\u001b[0m \u001b[0;32mnot\u001b[0m \u001b[0;32min\u001b[0m \u001b[0mioargs\u001b[0m\u001b[0;34m.\u001b[0m\u001b[0mmode\u001b[0m\u001b[0;34m:\u001b[0m\u001b[0;34m\u001b[0m\u001b[0;34m\u001b[0m\u001b[0m\n\u001b[1;32m    701\u001b[0m             \u001b[0;31m# Encoding\u001b[0m\u001b[0;34m\u001b[0m\u001b[0;34m\u001b[0m\u001b[0;34m\u001b[0m\u001b[0m\n\u001b[0;32m--> 702\u001b[0;31m             handle = open(\n\u001b[0m\u001b[1;32m    703\u001b[0m                 \u001b[0mhandle\u001b[0m\u001b[0;34m,\u001b[0m\u001b[0;34m\u001b[0m\u001b[0;34m\u001b[0m\u001b[0m\n\u001b[1;32m    704\u001b[0m                 \u001b[0mioargs\u001b[0m\u001b[0;34m.\u001b[0m\u001b[0mmode\u001b[0m\u001b[0;34m,\u001b[0m\u001b[0;34m\u001b[0m\u001b[0;34m\u001b[0m\u001b[0m\n",
            "\u001b[0;31mFileNotFoundError\u001b[0m: [Errno 2] No such file or directory: '/abalone.csv'"
          ]
        }
      ]
    },
    {
      "cell_type": "code",
      "source": [
        "df"
      ],
      "metadata": {
        "colab": {
          "base_uri": "https://localhost:8080/",
          "height": 169
        },
        "id": "Bo8Kv-AWrBrH",
        "outputId": "5078b024-0943-40f5-fc3c-cae51609cab1"
      },
      "execution_count": null,
      "outputs": [
        {
          "output_type": "error",
          "ename": "NameError",
          "evalue": "ignored",
          "traceback": [
            "\u001b[0;31m---------------------------------------------------------------------------\u001b[0m",
            "\u001b[0;31mNameError\u001b[0m                                 Traceback (most recent call last)",
            "\u001b[0;32m<ipython-input-3-00cf07b74dcd>\u001b[0m in \u001b[0;36m<module>\u001b[0;34m\u001b[0m\n\u001b[0;32m----> 1\u001b[0;31m \u001b[0mdf\u001b[0m\u001b[0;34m\u001b[0m\u001b[0;34m\u001b[0m\u001b[0m\n\u001b[0m",
            "\u001b[0;31mNameError\u001b[0m: name 'df' is not defined"
          ]
        }
      ]
    },
    {
      "cell_type": "code",
      "source": [
        "y=df.iloc[:,0]\n",
        "x=df.iloc[:,1:]"
      ],
      "metadata": {
        "id": "EtKR9wZarCPB",
        "colab": {
          "base_uri": "https://localhost:8080/",
          "height": 187
        },
        "outputId": "66fee1b7-a567-4799-9ac9-6a99754e10e0"
      },
      "execution_count": null,
      "outputs": [
        {
          "output_type": "error",
          "ename": "NameError",
          "evalue": "ignored",
          "traceback": [
            "\u001b[0;31m---------------------------------------------------------------------------\u001b[0m",
            "\u001b[0;31mNameError\u001b[0m                                 Traceback (most recent call last)",
            "\u001b[0;32m<ipython-input-4-8bbb3d07f220>\u001b[0m in \u001b[0;36m<module>\u001b[0;34m\u001b[0m\n\u001b[0;32m----> 1\u001b[0;31m \u001b[0my\u001b[0m\u001b[0;34m=\u001b[0m\u001b[0mdf\u001b[0m\u001b[0;34m.\u001b[0m\u001b[0miloc\u001b[0m\u001b[0;34m[\u001b[0m\u001b[0;34m:\u001b[0m\u001b[0;34m,\u001b[0m\u001b[0;36m0\u001b[0m\u001b[0;34m]\u001b[0m\u001b[0;34m\u001b[0m\u001b[0;34m\u001b[0m\u001b[0m\n\u001b[0m\u001b[1;32m      2\u001b[0m \u001b[0mx\u001b[0m\u001b[0;34m=\u001b[0m\u001b[0mdf\u001b[0m\u001b[0;34m.\u001b[0m\u001b[0miloc\u001b[0m\u001b[0;34m[\u001b[0m\u001b[0;34m:\u001b[0m\u001b[0;34m,\u001b[0m\u001b[0;36m1\u001b[0m\u001b[0;34m:\u001b[0m\u001b[0;34m]\u001b[0m\u001b[0;34m\u001b[0m\u001b[0;34m\u001b[0m\u001b[0m\n",
            "\u001b[0;31mNameError\u001b[0m: name 'df' is not defined"
          ]
        }
      ]
    },
    {
      "cell_type": "code",
      "source": [
        "x.isnull().sum()"
      ],
      "metadata": {
        "colab": {
          "base_uri": "https://localhost:8080/"
        },
        "id": "7xNIuW7drSyH",
        "outputId": "721bc4af-6798-482b-f4fd-a8bf0e60a867"
      },
      "execution_count": null,
      "outputs": [
        {
          "output_type": "execute_result",
          "data": {
            "text/plain": [
              "LongestShell     0\n",
              "Diameter         0\n",
              "Height           0\n",
              "WholeWeight      0\n",
              "ShuckedWeight    0\n",
              "VisceraWeight    0\n",
              "ShellWeight      0\n",
              "Rings            0\n",
              "dtype: int64"
            ]
          },
          "metadata": {},
          "execution_count": 14
        }
      ]
    },
    {
      "cell_type": "code",
      "source": [
        "y.unique()"
      ],
      "metadata": {
        "colab": {
          "base_uri": "https://localhost:8080/"
        },
        "id": "tJK9ddsXrcLj",
        "outputId": "dd0a284e-f8b4-4951-b6bb-61719dadfd62"
      },
      "execution_count": null,
      "outputs": [
        {
          "output_type": "execute_result",
          "data": {
            "text/plain": [
              "array(['M', 'F', 'I'], dtype=object)"
            ]
          },
          "metadata": {},
          "execution_count": 16
        }
      ]
    },
    {
      "cell_type": "markdown",
      "source": [
        "###pca\n",
        "pca is unsuppervised technique so we only handle x."
      ],
      "metadata": {
        "id": "eWyaI127sctR"
      }
    },
    {
      "cell_type": "markdown",
      "source": [
        "#scalling"
      ],
      "metadata": {
        "id": "B_GzZG2Wsqqx"
      }
    },
    {
      "cell_type": "code",
      "source": [
        "import sklearn\n",
        "sklearn.preprocessing.StandardScaler "
      ],
      "metadata": {
        "id": "XLOKBdN03L0O"
      },
      "execution_count": null,
      "outputs": []
    },
    {
      "cell_type": "code",
      "source": [
        "#mean centric scaliing\n",
        "mean_data=np.mean(x.T,axis=1)\n",
        "\n",
        "scaled_data=x-mean_data\n",
        "scaled_data"
      ],
      "metadata": {
        "colab": {
          "base_uri": "https://localhost:8080/",
          "height": 424
        },
        "id": "oKsmx3aar3to",
        "outputId": "49bce54e-674c-4f2d-b617-881e9204a130"
      },
      "execution_count": null,
      "outputs": [
        {
          "output_type": "execute_result",
          "data": {
            "text/plain": [
              "      LongestShell  Diameter    Height  WholeWeight  ShuckedWeight  \\\n",
              "0        -0.068992 -0.042881 -0.044516    -0.314742      -0.134867   \n",
              "1        -0.173992 -0.142881 -0.049516    -0.603242      -0.259867   \n",
              "2         0.006008  0.012119 -0.004516    -0.151742      -0.102867   \n",
              "3        -0.083992 -0.042881 -0.014516    -0.312742      -0.143867   \n",
              "4        -0.193992 -0.152881 -0.059516    -0.623742      -0.269867   \n",
              "...            ...       ...       ...          ...            ...   \n",
              "4172      0.041008  0.042119  0.025484     0.058258       0.010633   \n",
              "4173      0.066008  0.032119 -0.004516     0.137258       0.079633   \n",
              "4174      0.076008  0.067119  0.065484     0.347258       0.166133   \n",
              "4175      0.101008  0.077119  0.010484     0.265758       0.171633   \n",
              "4176      0.186008  0.147119  0.055484     1.119758       0.586133   \n",
              "\n",
              "      VisceraWeight  ShellWeight     Rings  \n",
              "0         -0.079594    -0.088831  5.066316  \n",
              "1         -0.132094    -0.168831 -2.933684  \n",
              "2         -0.039094    -0.028831 -0.933684  \n",
              "3         -0.066594    -0.083831  0.066316  \n",
              "4         -0.141094    -0.183831 -2.933684  \n",
              "...             ...          ...       ...  \n",
              "4172       0.058406     0.010169  1.066316  \n",
              "4173       0.033906     0.021669  0.066316  \n",
              "4174       0.106906     0.069169 -0.933684  \n",
              "4175       0.080406     0.057169  0.066316  \n",
              "4176       0.195906     0.256169  2.066316  \n",
              "\n",
              "[4177 rows x 8 columns]"
            ],
            "text/html": [
              "\n",
              "  <div id=\"df-fd5d0223-4306-4326-ada3-2448e31043c5\">\n",
              "    <div class=\"colab-df-container\">\n",
              "      <div>\n",
              "<style scoped>\n",
              "    .dataframe tbody tr th:only-of-type {\n",
              "        vertical-align: middle;\n",
              "    }\n",
              "\n",
              "    .dataframe tbody tr th {\n",
              "        vertical-align: top;\n",
              "    }\n",
              "\n",
              "    .dataframe thead th {\n",
              "        text-align: right;\n",
              "    }\n",
              "</style>\n",
              "<table border=\"1\" class=\"dataframe\">\n",
              "  <thead>\n",
              "    <tr style=\"text-align: right;\">\n",
              "      <th></th>\n",
              "      <th>LongestShell</th>\n",
              "      <th>Diameter</th>\n",
              "      <th>Height</th>\n",
              "      <th>WholeWeight</th>\n",
              "      <th>ShuckedWeight</th>\n",
              "      <th>VisceraWeight</th>\n",
              "      <th>ShellWeight</th>\n",
              "      <th>Rings</th>\n",
              "    </tr>\n",
              "  </thead>\n",
              "  <tbody>\n",
              "    <tr>\n",
              "      <th>0</th>\n",
              "      <td>-0.068992</td>\n",
              "      <td>-0.042881</td>\n",
              "      <td>-0.044516</td>\n",
              "      <td>-0.314742</td>\n",
              "      <td>-0.134867</td>\n",
              "      <td>-0.079594</td>\n",
              "      <td>-0.088831</td>\n",
              "      <td>5.066316</td>\n",
              "    </tr>\n",
              "    <tr>\n",
              "      <th>1</th>\n",
              "      <td>-0.173992</td>\n",
              "      <td>-0.142881</td>\n",
              "      <td>-0.049516</td>\n",
              "      <td>-0.603242</td>\n",
              "      <td>-0.259867</td>\n",
              "      <td>-0.132094</td>\n",
              "      <td>-0.168831</td>\n",
              "      <td>-2.933684</td>\n",
              "    </tr>\n",
              "    <tr>\n",
              "      <th>2</th>\n",
              "      <td>0.006008</td>\n",
              "      <td>0.012119</td>\n",
              "      <td>-0.004516</td>\n",
              "      <td>-0.151742</td>\n",
              "      <td>-0.102867</td>\n",
              "      <td>-0.039094</td>\n",
              "      <td>-0.028831</td>\n",
              "      <td>-0.933684</td>\n",
              "    </tr>\n",
              "    <tr>\n",
              "      <th>3</th>\n",
              "      <td>-0.083992</td>\n",
              "      <td>-0.042881</td>\n",
              "      <td>-0.014516</td>\n",
              "      <td>-0.312742</td>\n",
              "      <td>-0.143867</td>\n",
              "      <td>-0.066594</td>\n",
              "      <td>-0.083831</td>\n",
              "      <td>0.066316</td>\n",
              "    </tr>\n",
              "    <tr>\n",
              "      <th>4</th>\n",
              "      <td>-0.193992</td>\n",
              "      <td>-0.152881</td>\n",
              "      <td>-0.059516</td>\n",
              "      <td>-0.623742</td>\n",
              "      <td>-0.269867</td>\n",
              "      <td>-0.141094</td>\n",
              "      <td>-0.183831</td>\n",
              "      <td>-2.933684</td>\n",
              "    </tr>\n",
              "    <tr>\n",
              "      <th>...</th>\n",
              "      <td>...</td>\n",
              "      <td>...</td>\n",
              "      <td>...</td>\n",
              "      <td>...</td>\n",
              "      <td>...</td>\n",
              "      <td>...</td>\n",
              "      <td>...</td>\n",
              "      <td>...</td>\n",
              "    </tr>\n",
              "    <tr>\n",
              "      <th>4172</th>\n",
              "      <td>0.041008</td>\n",
              "      <td>0.042119</td>\n",
              "      <td>0.025484</td>\n",
              "      <td>0.058258</td>\n",
              "      <td>0.010633</td>\n",
              "      <td>0.058406</td>\n",
              "      <td>0.010169</td>\n",
              "      <td>1.066316</td>\n",
              "    </tr>\n",
              "    <tr>\n",
              "      <th>4173</th>\n",
              "      <td>0.066008</td>\n",
              "      <td>0.032119</td>\n",
              "      <td>-0.004516</td>\n",
              "      <td>0.137258</td>\n",
              "      <td>0.079633</td>\n",
              "      <td>0.033906</td>\n",
              "      <td>0.021669</td>\n",
              "      <td>0.066316</td>\n",
              "    </tr>\n",
              "    <tr>\n",
              "      <th>4174</th>\n",
              "      <td>0.076008</td>\n",
              "      <td>0.067119</td>\n",
              "      <td>0.065484</td>\n",
              "      <td>0.347258</td>\n",
              "      <td>0.166133</td>\n",
              "      <td>0.106906</td>\n",
              "      <td>0.069169</td>\n",
              "      <td>-0.933684</td>\n",
              "    </tr>\n",
              "    <tr>\n",
              "      <th>4175</th>\n",
              "      <td>0.101008</td>\n",
              "      <td>0.077119</td>\n",
              "      <td>0.010484</td>\n",
              "      <td>0.265758</td>\n",
              "      <td>0.171633</td>\n",
              "      <td>0.080406</td>\n",
              "      <td>0.057169</td>\n",
              "      <td>0.066316</td>\n",
              "    </tr>\n",
              "    <tr>\n",
              "      <th>4176</th>\n",
              "      <td>0.186008</td>\n",
              "      <td>0.147119</td>\n",
              "      <td>0.055484</td>\n",
              "      <td>1.119758</td>\n",
              "      <td>0.586133</td>\n",
              "      <td>0.195906</td>\n",
              "      <td>0.256169</td>\n",
              "      <td>2.066316</td>\n",
              "    </tr>\n",
              "  </tbody>\n",
              "</table>\n",
              "<p>4177 rows × 8 columns</p>\n",
              "</div>\n",
              "      <button class=\"colab-df-convert\" onclick=\"convertToInteractive('df-fd5d0223-4306-4326-ada3-2448e31043c5')\"\n",
              "              title=\"Convert this dataframe to an interactive table.\"\n",
              "              style=\"display:none;\">\n",
              "        \n",
              "  <svg xmlns=\"http://www.w3.org/2000/svg\" height=\"24px\"viewBox=\"0 0 24 24\"\n",
              "       width=\"24px\">\n",
              "    <path d=\"M0 0h24v24H0V0z\" fill=\"none\"/>\n",
              "    <path d=\"M18.56 5.44l.94 2.06.94-2.06 2.06-.94-2.06-.94-.94-2.06-.94 2.06-2.06.94zm-11 1L8.5 8.5l.94-2.06 2.06-.94-2.06-.94L8.5 2.5l-.94 2.06-2.06.94zm10 10l.94 2.06.94-2.06 2.06-.94-2.06-.94-.94-2.06-.94 2.06-2.06.94z\"/><path d=\"M17.41 7.96l-1.37-1.37c-.4-.4-.92-.59-1.43-.59-.52 0-1.04.2-1.43.59L10.3 9.45l-7.72 7.72c-.78.78-.78 2.05 0 2.83L4 21.41c.39.39.9.59 1.41.59.51 0 1.02-.2 1.41-.59l7.78-7.78 2.81-2.81c.8-.78.8-2.07 0-2.86zM5.41 20L4 18.59l7.72-7.72 1.47 1.35L5.41 20z\"/>\n",
              "  </svg>\n",
              "      </button>\n",
              "      \n",
              "  <style>\n",
              "    .colab-df-container {\n",
              "      display:flex;\n",
              "      flex-wrap:wrap;\n",
              "      gap: 12px;\n",
              "    }\n",
              "\n",
              "    .colab-df-convert {\n",
              "      background-color: #E8F0FE;\n",
              "      border: none;\n",
              "      border-radius: 50%;\n",
              "      cursor: pointer;\n",
              "      display: none;\n",
              "      fill: #1967D2;\n",
              "      height: 32px;\n",
              "      padding: 0 0 0 0;\n",
              "      width: 32px;\n",
              "    }\n",
              "\n",
              "    .colab-df-convert:hover {\n",
              "      background-color: #E2EBFA;\n",
              "      box-shadow: 0px 1px 2px rgba(60, 64, 67, 0.3), 0px 1px 3px 1px rgba(60, 64, 67, 0.15);\n",
              "      fill: #174EA6;\n",
              "    }\n",
              "\n",
              "    [theme=dark] .colab-df-convert {\n",
              "      background-color: #3B4455;\n",
              "      fill: #D2E3FC;\n",
              "    }\n",
              "\n",
              "    [theme=dark] .colab-df-convert:hover {\n",
              "      background-color: #434B5C;\n",
              "      box-shadow: 0px 1px 3px 1px rgba(0, 0, 0, 0.15);\n",
              "      filter: drop-shadow(0px 1px 2px rgba(0, 0, 0, 0.3));\n",
              "      fill: #FFFFFF;\n",
              "    }\n",
              "  </style>\n",
              "\n",
              "      <script>\n",
              "        const buttonEl =\n",
              "          document.querySelector('#df-fd5d0223-4306-4326-ada3-2448e31043c5 button.colab-df-convert');\n",
              "        buttonEl.style.display =\n",
              "          google.colab.kernel.accessAllowed ? 'block' : 'none';\n",
              "\n",
              "        async function convertToInteractive(key) {\n",
              "          const element = document.querySelector('#df-fd5d0223-4306-4326-ada3-2448e31043c5');\n",
              "          const dataTable =\n",
              "            await google.colab.kernel.invokeFunction('convertToInteractive',\n",
              "                                                     [key], {});\n",
              "          if (!dataTable) return;\n",
              "\n",
              "          const docLinkHtml = 'Like what you see? Visit the ' +\n",
              "            '<a target=\"_blank\" href=https://colab.research.google.com/notebooks/data_table.ipynb>data table notebook</a>'\n",
              "            + ' to learn more about interactive tables.';\n",
              "          element.innerHTML = '';\n",
              "          dataTable['output_type'] = 'display_data';\n",
              "          await google.colab.output.renderOutput(dataTable, element);\n",
              "          const docLink = document.createElement('div');\n",
              "          docLink.innerHTML = docLinkHtml;\n",
              "          element.appendChild(docLink);\n",
              "        }\n",
              "      </script>\n",
              "    </div>\n",
              "  </div>\n",
              "  "
            ]
          },
          "metadata": {},
          "execution_count": 20
        }
      ]
    },
    {
      "cell_type": "code",
      "source": [
        "from sklearn"
      ],
      "metadata": {
        "id": "qLgqdG1sZhCx"
      },
      "execution_count": null,
      "outputs": []
    },
    {
      "cell_type": "markdown",
      "source": [
        "##creating covariance matrix"
      ],
      "metadata": {
        "id": "aE37x0qttE6r"
      }
    },
    {
      "cell_type": "code",
      "source": [
        "cov_mat=np.cov(scaled_data.T)\n",
        "cov_mat"
      ],
      "metadata": {
        "colab": {
          "base_uri": "https://localhost:8080/"
        },
        "id": "nW0qkCKStDK7",
        "outputId": "1773ceb4-569f-431a-8945-42f0d7de3f96"
      },
      "execution_count": null,
      "outputs": [
        {
          "output_type": "execute_result",
          "data": {
            "text/plain": [
              "array([[1.44223076e-02, 1.17608250e-02, 4.15691189e-03, 5.44907081e-02,\n",
              "        2.39349454e-02, 1.18872298e-02, 1.50071720e-02, 2.15561736e-01],\n",
              "       [1.17608250e-02, 9.84855103e-03, 3.46054721e-03, 4.50381820e-02,\n",
              "        1.96742019e-02, 9.78729548e-03, 1.25066369e-02, 1.83871673e-01],\n",
              "       [4.15691189e-03, 3.46054721e-03, 1.74950266e-03, 1.68034708e-02,\n",
              "        7.19488681e-03, 3.66016741e-03, 4.75889986e-03, 7.51786501e-02],\n",
              "       [5.44907081e-02, 4.50381820e-02, 1.68034708e-02, 2.40481389e-01,\n",
              "        1.05518032e-01, 5.19461632e-02, 6.52158684e-02, 8.54408544e-01],\n",
              "       [2.39349454e-02, 1.96742019e-02, 7.19488681e-03, 1.05518032e-01,\n",
              "        4.92675507e-02, 2.26749006e-02, 2.72709563e-02, 3.01203734e-01],\n",
              "       [1.18872298e-02, 9.78729548e-03, 3.66016741e-03, 5.19461632e-02,\n",
              "        2.26749006e-02, 1.20152839e-02, 1.38495613e-02, 1.78057215e-01],\n",
              "       [1.50071720e-02, 1.25066369e-02, 4.75889986e-03, 6.52158684e-02,\n",
              "        2.72709563e-02, 1.38495613e-02, 1.93773832e-02, 2.81663350e-01],\n",
              "       [2.15561736e-01, 1.83871673e-01, 7.51786501e-02, 8.54408544e-01,\n",
              "        3.01203734e-01, 1.78057215e-01, 2.81663350e-01, 1.03952659e+01]])"
            ]
          },
          "metadata": {},
          "execution_count": 21
        }
      ]
    },
    {
      "cell_type": "markdown",
      "source": [
        "##finding eigen vector"
      ],
      "metadata": {
        "id": "O3ne4vVmtTsf"
      }
    },
    {
      "cell_type": "code",
      "source": [
        "eigen_val , eigen_vec = np.linalg.svd(cov_mat)\n",
        "print(eigen_val)\n",
        "print(eigen_vec)"
      ],
      "metadata": {
        "colab": {
          "base_uri": "https://localhost:8080/"
        },
        "id": "cXp6n9CvtQ8W",
        "outputId": "66424505-c599-4164-becf-d32f39427f76"
      },
      "execution_count": null,
      "outputs": [
        {
          "output_type": "stream",
          "name": "stdout",
          "text": [
            "[1.04954314e+01 2.39268823e-01 3.02087647e-03 2.60218996e-03\n",
            " 1.05068657e-03 1.47688518e-04 4.88782005e-04 4.17493194e-04]\n",
            "[[-2.10513202e-02  1.83052752e-01 -7.42040211e-01  9.06887398e-02\n",
            "   3.07007218e-02 -6.18893826e-01  1.52311416e-01 -5.43508715e-03]\n",
            " [-1.79401219e-02  1.48804192e-01 -5.96175335e-01  4.20854302e-02\n",
            "  -2.33409653e-02  7.83141972e-01  7.49734266e-02 -2.93613363e-02]\n",
            " [-7.31629638e-03  5.24595599e-02 -1.40358287e-01 -3.71173260e-02\n",
            "  -1.45782231e-03 -4.21715859e-02 -9.10437257e-01 -3.81365645e-01]\n",
            " [-8.36804920e-02  8.34461310e-01  2.28847916e-01 -2.20616051e-01\n",
            "   1.25570884e-01 -2.50039224e-03  1.82698066e-01 -3.82722100e-01]\n",
            " [-2.97346596e-02  3.99951598e-01  1.36354791e-01  7.54544047e-01\n",
            "  -3.31709499e-01  5.43703582e-03 -1.68819392e-01  3.35655300e-01]\n",
            " [-1.74599170e-02  1.83252786e-01 -7.74498237e-03 -7.33235758e-02\n",
            "   7.56051666e-01  2.91035964e-02 -2.30202123e-01  5.78984522e-01]\n",
            " [-2.74311519e-02  2.05272453e-01 -5.65032111e-02 -6.04242412e-01\n",
            "  -5.48722324e-01 -3.15866047e-02 -1.65567109e-01  5.09217906e-01]\n",
            " [-9.95106815e-01 -9.79370973e-02  5.85253004e-03  1.15443528e-02\n",
            "   9.94904944e-04 -3.08222505e-04  4.04147122e-04  1.40655044e-03]]\n"
          ]
        }
      ]
    },
    {
      "cell_type": "markdown",
      "source": [
        "##projecting the data to new axis"
      ],
      "metadata": {
        "id": "DWgt9CWhuDvv"
      }
    },
    {
      "cell_type": "code",
      "source": [
        "project_data = eigen_vec.T.dot(scaled_data.T)"
      ],
      "metadata": {
        "id": "Au1uNkiNthz_"
      },
      "execution_count": null,
      "outputs": []
    },
    {
      "cell_type": "code",
      "source": [
        "project_data"
      ],
      "metadata": {
        "colab": {
          "base_uri": "https://localhost:8080/"
        },
        "id": "gIcPNFf3uTwx",
        "outputId": "37026c47-adfc-4dc8-df19-97e94b6521c9"
      },
      "execution_count": null,
      "outputs": [
        {
          "output_type": "execute_result",
          "data": {
            "text/plain": [
              "array([[-5.00480331e+00,  2.99106199e+00,  9.46034953e-01, ...,\n",
              "         8.88069923e-01, -9.98918993e-02, -2.18474351e+00],\n",
              "       [-8.66926554e-01, -4.34571636e-01, -8.67386708e-02, ...,\n",
              "         5.08786202e-01,  3.40899859e-01,  1.11378693e+00],\n",
              "       [ 2.78764323e-02,  4.11496350e-02, -6.33340395e-02, ...,\n",
              "        -1.36851112e-02, -4.16435072e-02,  9.87562350e-02],\n",
              "       ...,\n",
              "       [ 9.97555349e-03,  3.62569288e-04,  5.84371714e-03, ...,\n",
              "         4.01045146e-03, -1.77778014e-03, -4.88393630e-03],\n",
              "       [ 2.71492360e-02, -1.29678387e-03,  8.97410940e-03, ...,\n",
              "        -4.40523291e-02,  3.25214931e-03,  7.79768784e-03],\n",
              "       [ 9.60914417e-03,  1.09468006e-03, -1.37480744e-02, ...,\n",
              "        -8.69095613e-03,  2.48454648e-02, -1.15286400e-02]])"
            ]
          },
          "metadata": {},
          "execution_count": 26
        }
      ]
    },
    {
      "cell_type": "markdown",
      "source": [
        "##comparing wiht the sklearn pca function"
      ],
      "metadata": {
        "id": "zKWJ62eJuX4r"
      }
    },
    {
      "cell_type": "code",
      "source": [
        "from sklearn.decomposition import PCA\n",
        "\n",
        "pca=PCA()\n",
        "pca.fit(scaled_data)\n",
        "p=pca.fit_transform(scaled_data)\n"
      ],
      "metadata": {
        "id": "7MYkRTp1uXXf"
      },
      "execution_count": null,
      "outputs": []
    },
    {
      "cell_type": "code",
      "source": [
        "p"
      ],
      "metadata": {
        "colab": {
          "base_uri": "https://localhost:8080/"
        },
        "id": "lW1ox_NRvqic",
        "outputId": "16bcc372-7a78-4187-c957-4c9b36038b2b"
      },
      "execution_count": null,
      "outputs": [
        {
          "output_type": "execute_result",
          "data": {
            "text/plain": [
              "array([[ 5.00480331e+00, -8.66926554e-01,  2.78764323e-02, ...,\n",
              "        -2.71492360e-02, -9.60914417e-03,  9.97555349e-03],\n",
              "       [-2.99106199e+00, -4.34571636e-01,  4.11496350e-02, ...,\n",
              "         1.29678387e-03, -1.09468006e-03,  3.62569288e-04],\n",
              "       [-9.46034953e-01, -8.67386708e-02, -6.33340395e-02, ...,\n",
              "        -8.97410940e-03,  1.37480744e-02,  5.84371714e-03],\n",
              "       ...,\n",
              "       [-8.88069923e-01,  5.08786202e-01, -1.36851112e-02, ...,\n",
              "         4.40523291e-02,  8.69095613e-03,  4.01045146e-03],\n",
              "       [ 9.98918993e-02,  3.40899859e-01, -4.16435072e-02, ...,\n",
              "        -3.25214931e-03, -2.48454648e-02, -1.77778014e-03],\n",
              "       [ 2.18474351e+00,  1.11378693e+00,  9.87562350e-02, ...,\n",
              "        -7.79768784e-03,  1.15286400e-02, -4.88393630e-03]])"
            ]
          },
          "metadata": {},
          "execution_count": 33
        }
      ]
    },
    {
      "cell_type": "code",
      "source": [
        "pca.explained_variance_ratio_"
      ],
      "metadata": {
        "colab": {
          "base_uri": "https://localhost:8080/"
        },
        "id": "qO_Ca2DjvgY3",
        "outputId": "c52346b6-9285-4935-cb1e-14c1807f9a59"
      },
      "execution_count": null,
      "outputs": [
        {
          "output_type": "execute_result",
          "data": {
            "text/plain": [
              "array([9.77007382e-01, 2.22732538e-02, 2.81209843e-04, 2.42234808e-04,\n",
              "       9.78071788e-05, 4.55001428e-05, 3.88639512e-05, 1.37481507e-05])"
            ]
          },
          "metadata": {},
          "execution_count": 35
        }
      ]
    },
    {
      "cell_type": "code",
      "source": [
        "pca.inverse_transform(p)"
      ],
      "metadata": {
        "colab": {
          "base_uri": "https://localhost:8080/"
        },
        "id": "xQswqovYwmcK",
        "outputId": "9ee9abc7-91fb-4c52-8ef5-bdd3fce7a69d"
      },
      "execution_count": null,
      "outputs": [
        {
          "output_type": "execute_result",
          "data": {
            "text/plain": [
              "array([[-6.89920996e-02, -4.28812545e-02, -4.45163993e-02, ...,\n",
              "        -7.95936079e-02, -8.88308595e-02,  5.06631554e+00],\n",
              "       [-1.73992100e-01, -1.42881254e-01, -4.95163993e-02, ...,\n",
              "        -1.32093608e-01, -1.68830859e-01, -2.93368446e+00],\n",
              "       [ 6.00790041e-03,  1.21187455e-02, -4.51639933e-03, ...,\n",
              "        -3.90936079e-02, -2.88308595e-02, -9.33684463e-01],\n",
              "       ...,\n",
              "       [ 7.60079004e-02,  6.71187455e-02,  6.54836007e-02, ...,\n",
              "         1.06906392e-01,  6.91691405e-02, -9.33684463e-01],\n",
              "       [ 1.01007900e-01,  7.71187455e-02,  1.04836007e-02, ...,\n",
              "         8.04063921e-02,  5.71691405e-02,  6.63155375e-02],\n",
              "       [ 1.86007900e-01,  1.47118746e-01,  5.54836007e-02, ...,\n",
              "         1.95906392e-01,  2.56169141e-01,  2.06631554e+00]])"
            ]
          },
          "metadata": {},
          "execution_count": 36
        }
      ]
    },
    {
      "cell_type": "code",
      "source": [
        "#calculating loading\n",
        "\n",
        "loading=pd.DataFrame(pca.components_.T,columns=['pc1','pc2','pc3','pc4','pc5','pc6','pc7','pc8'])\n",
        "loading"
      ],
      "metadata": {
        "colab": {
          "base_uri": "https://localhost:8080/",
          "height": 300
        },
        "id": "rmE4YbP1wqoM",
        "outputId": "6e556fd5-aa5d-4790-ef12-86d92bf56b77"
      },
      "execution_count": null,
      "outputs": [
        {
          "output_type": "execute_result",
          "data": {
            "text/plain": [
              "        pc1       pc2       pc3       pc4       pc5       pc6       pc7  \\\n",
              "0  0.021051  0.183053 -0.742040 -0.090689 -0.030701 -0.152311  0.005435   \n",
              "1  0.017940  0.148804 -0.596175 -0.042085  0.023341 -0.074973  0.029361   \n",
              "2  0.007316  0.052460 -0.140358  0.037117  0.001458  0.910437  0.381366   \n",
              "3  0.083680  0.834461  0.228848  0.220616 -0.125571 -0.182698  0.382722   \n",
              "4  0.029735  0.399952  0.136355 -0.754544  0.331709  0.168819 -0.335655   \n",
              "5  0.017460  0.183253 -0.007745  0.073324 -0.756052  0.230202 -0.578985   \n",
              "6  0.027431  0.205272 -0.056503  0.604242  0.548722  0.165567 -0.509218   \n",
              "7  0.995107 -0.097937  0.005853 -0.011544 -0.000995 -0.000404 -0.001407   \n",
              "\n",
              "        pc8  \n",
              "0 -0.618894  \n",
              "1  0.783142  \n",
              "2 -0.042172  \n",
              "3 -0.002500  \n",
              "4  0.005437  \n",
              "5  0.029104  \n",
              "6 -0.031587  \n",
              "7 -0.000308  "
            ],
            "text/html": [
              "\n",
              "  <div id=\"df-8022b9c7-ce55-412a-8ae5-32954afce0b0\">\n",
              "    <div class=\"colab-df-container\">\n",
              "      <div>\n",
              "<style scoped>\n",
              "    .dataframe tbody tr th:only-of-type {\n",
              "        vertical-align: middle;\n",
              "    }\n",
              "\n",
              "    .dataframe tbody tr th {\n",
              "        vertical-align: top;\n",
              "    }\n",
              "\n",
              "    .dataframe thead th {\n",
              "        text-align: right;\n",
              "    }\n",
              "</style>\n",
              "<table border=\"1\" class=\"dataframe\">\n",
              "  <thead>\n",
              "    <tr style=\"text-align: right;\">\n",
              "      <th></th>\n",
              "      <th>pc1</th>\n",
              "      <th>pc2</th>\n",
              "      <th>pc3</th>\n",
              "      <th>pc4</th>\n",
              "      <th>pc5</th>\n",
              "      <th>pc6</th>\n",
              "      <th>pc7</th>\n",
              "      <th>pc8</th>\n",
              "    </tr>\n",
              "  </thead>\n",
              "  <tbody>\n",
              "    <tr>\n",
              "      <th>0</th>\n",
              "      <td>0.021051</td>\n",
              "      <td>0.183053</td>\n",
              "      <td>-0.742040</td>\n",
              "      <td>-0.090689</td>\n",
              "      <td>-0.030701</td>\n",
              "      <td>-0.152311</td>\n",
              "      <td>0.005435</td>\n",
              "      <td>-0.618894</td>\n",
              "    </tr>\n",
              "    <tr>\n",
              "      <th>1</th>\n",
              "      <td>0.017940</td>\n",
              "      <td>0.148804</td>\n",
              "      <td>-0.596175</td>\n",
              "      <td>-0.042085</td>\n",
              "      <td>0.023341</td>\n",
              "      <td>-0.074973</td>\n",
              "      <td>0.029361</td>\n",
              "      <td>0.783142</td>\n",
              "    </tr>\n",
              "    <tr>\n",
              "      <th>2</th>\n",
              "      <td>0.007316</td>\n",
              "      <td>0.052460</td>\n",
              "      <td>-0.140358</td>\n",
              "      <td>0.037117</td>\n",
              "      <td>0.001458</td>\n",
              "      <td>0.910437</td>\n",
              "      <td>0.381366</td>\n",
              "      <td>-0.042172</td>\n",
              "    </tr>\n",
              "    <tr>\n",
              "      <th>3</th>\n",
              "      <td>0.083680</td>\n",
              "      <td>0.834461</td>\n",
              "      <td>0.228848</td>\n",
              "      <td>0.220616</td>\n",
              "      <td>-0.125571</td>\n",
              "      <td>-0.182698</td>\n",
              "      <td>0.382722</td>\n",
              "      <td>-0.002500</td>\n",
              "    </tr>\n",
              "    <tr>\n",
              "      <th>4</th>\n",
              "      <td>0.029735</td>\n",
              "      <td>0.399952</td>\n",
              "      <td>0.136355</td>\n",
              "      <td>-0.754544</td>\n",
              "      <td>0.331709</td>\n",
              "      <td>0.168819</td>\n",
              "      <td>-0.335655</td>\n",
              "      <td>0.005437</td>\n",
              "    </tr>\n",
              "    <tr>\n",
              "      <th>5</th>\n",
              "      <td>0.017460</td>\n",
              "      <td>0.183253</td>\n",
              "      <td>-0.007745</td>\n",
              "      <td>0.073324</td>\n",
              "      <td>-0.756052</td>\n",
              "      <td>0.230202</td>\n",
              "      <td>-0.578985</td>\n",
              "      <td>0.029104</td>\n",
              "    </tr>\n",
              "    <tr>\n",
              "      <th>6</th>\n",
              "      <td>0.027431</td>\n",
              "      <td>0.205272</td>\n",
              "      <td>-0.056503</td>\n",
              "      <td>0.604242</td>\n",
              "      <td>0.548722</td>\n",
              "      <td>0.165567</td>\n",
              "      <td>-0.509218</td>\n",
              "      <td>-0.031587</td>\n",
              "    </tr>\n",
              "    <tr>\n",
              "      <th>7</th>\n",
              "      <td>0.995107</td>\n",
              "      <td>-0.097937</td>\n",
              "      <td>0.005853</td>\n",
              "      <td>-0.011544</td>\n",
              "      <td>-0.000995</td>\n",
              "      <td>-0.000404</td>\n",
              "      <td>-0.001407</td>\n",
              "      <td>-0.000308</td>\n",
              "    </tr>\n",
              "  </tbody>\n",
              "</table>\n",
              "</div>\n",
              "      <button class=\"colab-df-convert\" onclick=\"convertToInteractive('df-8022b9c7-ce55-412a-8ae5-32954afce0b0')\"\n",
              "              title=\"Convert this dataframe to an interactive table.\"\n",
              "              style=\"display:none;\">\n",
              "        \n",
              "  <svg xmlns=\"http://www.w3.org/2000/svg\" height=\"24px\"viewBox=\"0 0 24 24\"\n",
              "       width=\"24px\">\n",
              "    <path d=\"M0 0h24v24H0V0z\" fill=\"none\"/>\n",
              "    <path d=\"M18.56 5.44l.94 2.06.94-2.06 2.06-.94-2.06-.94-.94-2.06-.94 2.06-2.06.94zm-11 1L8.5 8.5l.94-2.06 2.06-.94-2.06-.94L8.5 2.5l-.94 2.06-2.06.94zm10 10l.94 2.06.94-2.06 2.06-.94-2.06-.94-.94-2.06-.94 2.06-2.06.94z\"/><path d=\"M17.41 7.96l-1.37-1.37c-.4-.4-.92-.59-1.43-.59-.52 0-1.04.2-1.43.59L10.3 9.45l-7.72 7.72c-.78.78-.78 2.05 0 2.83L4 21.41c.39.39.9.59 1.41.59.51 0 1.02-.2 1.41-.59l7.78-7.78 2.81-2.81c.8-.78.8-2.07 0-2.86zM5.41 20L4 18.59l7.72-7.72 1.47 1.35L5.41 20z\"/>\n",
              "  </svg>\n",
              "      </button>\n",
              "      \n",
              "  <style>\n",
              "    .colab-df-container {\n",
              "      display:flex;\n",
              "      flex-wrap:wrap;\n",
              "      gap: 12px;\n",
              "    }\n",
              "\n",
              "    .colab-df-convert {\n",
              "      background-color: #E8F0FE;\n",
              "      border: none;\n",
              "      border-radius: 50%;\n",
              "      cursor: pointer;\n",
              "      display: none;\n",
              "      fill: #1967D2;\n",
              "      height: 32px;\n",
              "      padding: 0 0 0 0;\n",
              "      width: 32px;\n",
              "    }\n",
              "\n",
              "    .colab-df-convert:hover {\n",
              "      background-color: #E2EBFA;\n",
              "      box-shadow: 0px 1px 2px rgba(60, 64, 67, 0.3), 0px 1px 3px 1px rgba(60, 64, 67, 0.15);\n",
              "      fill: #174EA6;\n",
              "    }\n",
              "\n",
              "    [theme=dark] .colab-df-convert {\n",
              "      background-color: #3B4455;\n",
              "      fill: #D2E3FC;\n",
              "    }\n",
              "\n",
              "    [theme=dark] .colab-df-convert:hover {\n",
              "      background-color: #434B5C;\n",
              "      box-shadow: 0px 1px 3px 1px rgba(0, 0, 0, 0.15);\n",
              "      filter: drop-shadow(0px 1px 2px rgba(0, 0, 0, 0.3));\n",
              "      fill: #FFFFFF;\n",
              "    }\n",
              "  </style>\n",
              "\n",
              "      <script>\n",
              "        const buttonEl =\n",
              "          document.querySelector('#df-8022b9c7-ce55-412a-8ae5-32954afce0b0 button.colab-df-convert');\n",
              "        buttonEl.style.display =\n",
              "          google.colab.kernel.accessAllowed ? 'block' : 'none';\n",
              "\n",
              "        async function convertToInteractive(key) {\n",
              "          const element = document.querySelector('#df-8022b9c7-ce55-412a-8ae5-32954afce0b0');\n",
              "          const dataTable =\n",
              "            await google.colab.kernel.invokeFunction('convertToInteractive',\n",
              "                                                     [key], {});\n",
              "          if (!dataTable) return;\n",
              "\n",
              "          const docLinkHtml = 'Like what you see? Visit the ' +\n",
              "            '<a target=\"_blank\" href=https://colab.research.google.com/notebooks/data_table.ipynb>data table notebook</a>'\n",
              "            + ' to learn more about interactive tables.';\n",
              "          element.innerHTML = '';\n",
              "          dataTable['output_type'] = 'display_data';\n",
              "          await google.colab.output.renderOutput(dataTable, element);\n",
              "          const docLink = document.createElement('div');\n",
              "          docLink.innerHTML = docLinkHtml;\n",
              "          element.appendChild(docLink);\n",
              "        }\n",
              "      </script>\n",
              "    </div>\n",
              "  </div>\n",
              "  "
            ]
          },
          "metadata": {},
          "execution_count": 38
        }
      ]
    },
    {
      "cell_type": "markdown",
      "source": [
        "#raw code from more basic"
      ],
      "metadata": {
        "id": "qjWSXkQHWAuH"
      }
    },
    {
      "cell_type": "code",
      "source": [
        "import pandas as pd\n",
        "from pandas import DataFrame\n",
        "import numpy as np"
      ],
      "metadata": {
        "id": "Zu-zDyeHZioj"
      },
      "execution_count": null,
      "outputs": []
    },
    {
      "cell_type": "code",
      "source": [
        "di={'x':[4,8,13,7],'y':[11,4,5,14]}\n",
        "df=pd.DataFrame(di)"
      ],
      "metadata": {
        "id": "365FPy1CWATg"
      },
      "execution_count": null,
      "outputs": []
    },
    {
      "cell_type": "code",
      "source": [
        "list(df['x'])\n",
        "list(df.columns)"
      ],
      "metadata": {
        "colab": {
          "base_uri": "https://localhost:8080/"
        },
        "id": "pqXFzsRqV_sd",
        "outputId": "89b6c4cf-2fa3-4ee7-f974-7f88762e742e"
      },
      "execution_count": null,
      "outputs": [
        {
          "output_type": "execute_result",
          "data": {
            "text/plain": [
              "['x', 'y']"
            ]
          },
          "metadata": {},
          "execution_count": 24
        }
      ]
    },
    {
      "cell_type": "code",
      "source": [
        "def mean_var(l):\n",
        "  sum=0\n",
        "  for i in list(l):\n",
        "    sum+=i\n",
        "  mean=sum/len(l)\n",
        "  return mean"
      ],
      "metadata": {
        "id": "uzwbwbclV-5O"
      },
      "execution_count": null,
      "outputs": []
    },
    {
      "cell_type": "code",
      "source": [
        "mean_var(df['y'])"
      ],
      "metadata": {
        "colab": {
          "base_uri": "https://localhost:8080/"
        },
        "id": "5JGo7flPbH9e",
        "outputId": "ccff9a8c-1f85-4e40-9c9d-e4020da54aed"
      },
      "execution_count": null,
      "outputs": [
        {
          "output_type": "execute_result",
          "data": {
            "text/plain": [
              "8.5"
            ]
          },
          "metadata": {},
          "execution_count": 20
        }
      ]
    },
    {
      "cell_type": "markdown",
      "source": [
        "manual code for covariance (not requierd)"
      ],
      "metadata": {
        "id": "EpPkaiBTfbwJ"
      }
    },
    {
      "cell_type": "code",
      "source": [
        "# def cov(df:pd.DataFrame):\n",
        "#   col_l=list(df.columns)\n",
        "#   n=len(col_l)\n",
        "#   #covariance matrix will be my s\n",
        "#   s=np.empty([n,n])\n",
        "#   for i in range(n):\n",
        "#     for j in range(n):\n",
        "#       s[i][j]=\n"
      ],
      "metadata": {
        "id": "6ICd-kwCbOVi"
      },
      "execution_count": null,
      "outputs": []
    },
    {
      "cell_type": "markdown",
      "source": [
        "#step 1 eigen value"
      ],
      "metadata": {
        "id": "OcK5xVV5fman"
      }
    },
    {
      "cell_type": "code",
      "source": [],
      "metadata": {
        "id": "Ug7Vj4NxflqO"
      },
      "execution_count": null,
      "outputs": []
    }
  ]
}